{
 "cells": [
  {
   "cell_type": "code",
   "execution_count": 103,
   "id": "a9f44efa",
   "metadata": {},
   "outputs": [],
   "source": [
    "import pandas as pd\n",
    "import numpy as np\n",
    "import matplotlib.pyplot as plt\n",
    "\n",
    "%matplotlib inline"
   ]
  },
  {
   "cell_type": "code",
   "execution_count": 104,
   "id": "65a932a2",
   "metadata": {},
   "outputs": [],
   "source": [
    "member = pd.read_excel('Member.xlsx')\n",
    "utilization = pd.read_excel('Utilization.xlsx')"
   ]
  },
  {
   "cell_type": "markdown",
   "id": "8daa3e5e",
   "metadata": {},
   "source": [
    "# Member Dataset Exploration\n"
   ]
  },
  {
   "cell_type": "code",
   "execution_count": 105,
   "id": "26b7cc4c",
   "metadata": {},
   "outputs": [
    {
     "data": {
      "text/html": [
       "<div>\n",
       "<style scoped>\n",
       "    .dataframe tbody tr th:only-of-type {\n",
       "        vertical-align: middle;\n",
       "    }\n",
       "\n",
       "    .dataframe tbody tr th {\n",
       "        vertical-align: top;\n",
       "    }\n",
       "\n",
       "    .dataframe thead th {\n",
       "        text-align: right;\n",
       "    }\n",
       "</style>\n",
       "<table border=\"1\" class=\"dataframe\">\n",
       "  <thead>\n",
       "    <tr style=\"text-align: right;\">\n",
       "      <th></th>\n",
       "      <th>MEMBER_ID</th>\n",
       "      <th>PCP_POOL</th>\n",
       "      <th>AIDCAT</th>\n",
       "      <th>SEX</th>\n",
       "      <th>AGE</th>\n",
       "      <th>REGION</th>\n",
       "      <th>LANGUAGE</th>\n",
       "      <th>RACE_ETHNICITY</th>\n",
       "      <th>ASTHMA_DENOMINATOR</th>\n",
       "      <th>ASTHMA_NUMERATOR</th>\n",
       "    </tr>\n",
       "  </thead>\n",
       "  <tbody>\n",
       "    <tr>\n",
       "      <th>0</th>\n",
       "      <td>30001062600</td>\n",
       "      <td>SM</td>\n",
       "      <td>DISABLED</td>\n",
       "      <td>F</td>\n",
       "      <td>71</td>\n",
       "      <td>SOUTHERN</td>\n",
       "      <td>ENGLISH</td>\n",
       "      <td>WHITE</td>\n",
       "      <td>1</td>\n",
       "      <td>0</td>\n",
       "    </tr>\n",
       "    <tr>\n",
       "      <th>1</th>\n",
       "      <td>30001091800</td>\n",
       "      <td>NC</td>\n",
       "      <td>DISABLED</td>\n",
       "      <td>F</td>\n",
       "      <td>63</td>\n",
       "      <td>SOUTHERN</td>\n",
       "      <td>SPANISH</td>\n",
       "      <td>HISPANIC</td>\n",
       "      <td>1</td>\n",
       "      <td>0</td>\n",
       "    </tr>\n",
       "    <tr>\n",
       "      <th>2</th>\n",
       "      <td>30002321300</td>\n",
       "      <td>SCAH</td>\n",
       "      <td>MCE</td>\n",
       "      <td>M</td>\n",
       "      <td>56</td>\n",
       "      <td>SOUTHERN</td>\n",
       "      <td>ENGLISH</td>\n",
       "      <td>WHITE</td>\n",
       "      <td>1</td>\n",
       "      <td>1</td>\n",
       "    </tr>\n",
       "    <tr>\n",
       "      <th>3</th>\n",
       "      <td>30003427200</td>\n",
       "      <td>SM</td>\n",
       "      <td>FAMILY</td>\n",
       "      <td>F</td>\n",
       "      <td>27</td>\n",
       "      <td>SOUTHERN</td>\n",
       "      <td>ENGLISH</td>\n",
       "      <td>BLACK</td>\n",
       "      <td>1</td>\n",
       "      <td>0</td>\n",
       "    </tr>\n",
       "    <tr>\n",
       "      <th>4</th>\n",
       "      <td>30004005500</td>\n",
       "      <td>YOSM</td>\n",
       "      <td>MCE</td>\n",
       "      <td>M</td>\n",
       "      <td>29</td>\n",
       "      <td>SOUTHERN</td>\n",
       "      <td>ENGLISH</td>\n",
       "      <td>BLACK</td>\n",
       "      <td>1</td>\n",
       "      <td>0</td>\n",
       "    </tr>\n",
       "  </tbody>\n",
       "</table>\n",
       "</div>"
      ],
      "text/plain": [
       "     MEMBER_ID PCP_POOL    AIDCAT SEX  AGE    REGION LANGUAGE RACE_ETHNICITY  \\\n",
       "0  30001062600       SM  DISABLED   F   71  SOUTHERN  ENGLISH          WHITE   \n",
       "1  30001091800       NC  DISABLED   F   63  SOUTHERN  SPANISH       HISPANIC   \n",
       "2  30002321300     SCAH       MCE   M   56  SOUTHERN  ENGLISH          WHITE   \n",
       "3  30003427200       SM    FAMILY   F   27  SOUTHERN  ENGLISH          BLACK   \n",
       "4  30004005500     YOSM       MCE   M   29  SOUTHERN  ENGLISH          BLACK   \n",
       "\n",
       "   ASTHMA_DENOMINATOR   ASTHMA_NUMERATOR  \n",
       "0                    1                 0  \n",
       "1                    1                 0  \n",
       "2                    1                 1  \n",
       "3                    1                 0  \n",
       "4                    1                 0  "
      ]
     },
     "execution_count": 105,
     "metadata": {},
     "output_type": "execute_result"
    }
   ],
   "source": [
    "member.head()"
   ]
  },
  {
   "cell_type": "code",
   "execution_count": 106,
   "id": "86728800",
   "metadata": {},
   "outputs": [
    {
     "data": {
      "text/plain": [
       "(403, 10)"
      ]
     },
     "execution_count": 106,
     "metadata": {},
     "output_type": "execute_result"
    }
   ],
   "source": [
    "member.shape"
   ]
  },
  {
   "cell_type": "code",
   "execution_count": 107,
   "id": "9e247cf8",
   "metadata": {},
   "outputs": [
    {
     "name": "stdout",
     "output_type": "stream",
     "text": [
      "<class 'pandas.core.frame.DataFrame'>\n",
      "RangeIndex: 403 entries, 0 to 402\n",
      "Data columns (total 10 columns):\n",
      " #   Column               Non-Null Count  Dtype \n",
      "---  ------               --------------  ----- \n",
      " 0   MEMBER_ID            403 non-null    int64 \n",
      " 1   PCP_POOL             403 non-null    object\n",
      " 2   AIDCAT               403 non-null    object\n",
      " 3   SEX                  403 non-null    object\n",
      " 4   AGE                  403 non-null    int64 \n",
      " 5   REGION               403 non-null    object\n",
      " 6   LANGUAGE             403 non-null    object\n",
      " 7   RACE_ETHNICITY       403 non-null    object\n",
      " 8   ASTHMA_DENOMINATOR   403 non-null    int64 \n",
      " 9   ASTHMA_NUMERATOR     403 non-null    int64 \n",
      "dtypes: int64(4), object(6)\n",
      "memory usage: 31.6+ KB\n"
     ]
    }
   ],
   "source": [
    "member.info()"
   ]
  },
  {
   "cell_type": "code",
   "execution_count": 108,
   "id": "5ab80b91",
   "metadata": {},
   "outputs": [
    {
     "data": {
      "text/html": [
       "<div>\n",
       "<style scoped>\n",
       "    .dataframe tbody tr th:only-of-type {\n",
       "        vertical-align: middle;\n",
       "    }\n",
       "\n",
       "    .dataframe tbody tr th {\n",
       "        vertical-align: top;\n",
       "    }\n",
       "\n",
       "    .dataframe thead th {\n",
       "        text-align: right;\n",
       "    }\n",
       "</style>\n",
       "<table border=\"1\" class=\"dataframe\">\n",
       "  <thead>\n",
       "    <tr style=\"text-align: right;\">\n",
       "      <th></th>\n",
       "      <th>MEMBER_ID</th>\n",
       "      <th>AGE</th>\n",
       "      <th>ASTHMA_DENOMINATOR</th>\n",
       "      <th>ASTHMA_NUMERATOR</th>\n",
       "    </tr>\n",
       "  </thead>\n",
       "  <tbody>\n",
       "    <tr>\n",
       "      <th>count</th>\n",
       "      <td>4.030000e+02</td>\n",
       "      <td>403.000000</td>\n",
       "      <td>403.0</td>\n",
       "      <td>403.000000</td>\n",
       "    </tr>\n",
       "    <tr>\n",
       "      <th>mean</th>\n",
       "      <td>3.008027e+10</td>\n",
       "      <td>31.431762</td>\n",
       "      <td>1.0</td>\n",
       "      <td>0.347395</td>\n",
       "    </tr>\n",
       "    <tr>\n",
       "      <th>std</th>\n",
       "      <td>3.557009e+07</td>\n",
       "      <td>20.761431</td>\n",
       "      <td>0.0</td>\n",
       "      <td>0.476734</td>\n",
       "    </tr>\n",
       "    <tr>\n",
       "      <th>min</th>\n",
       "      <td>3.000106e+10</td>\n",
       "      <td>0.000000</td>\n",
       "      <td>1.0</td>\n",
       "      <td>0.000000</td>\n",
       "    </tr>\n",
       "    <tr>\n",
       "      <th>25%</th>\n",
       "      <td>3.005268e+10</td>\n",
       "      <td>13.500000</td>\n",
       "      <td>1.0</td>\n",
       "      <td>0.000000</td>\n",
       "    </tr>\n",
       "    <tr>\n",
       "      <th>50%</th>\n",
       "      <td>3.007772e+10</td>\n",
       "      <td>31.000000</td>\n",
       "      <td>1.0</td>\n",
       "      <td>0.000000</td>\n",
       "    </tr>\n",
       "    <tr>\n",
       "      <th>75%</th>\n",
       "      <td>3.011111e+10</td>\n",
       "      <td>47.500000</td>\n",
       "      <td>1.0</td>\n",
       "      <td>1.000000</td>\n",
       "    </tr>\n",
       "    <tr>\n",
       "      <th>max</th>\n",
       "      <td>3.013896e+10</td>\n",
       "      <td>86.000000</td>\n",
       "      <td>1.0</td>\n",
       "      <td>1.000000</td>\n",
       "    </tr>\n",
       "  </tbody>\n",
       "</table>\n",
       "</div>"
      ],
      "text/plain": [
       "          MEMBER_ID         AGE  ASTHMA_DENOMINATOR   ASTHMA_NUMERATOR\n",
       "count  4.030000e+02  403.000000                403.0        403.000000\n",
       "mean   3.008027e+10   31.431762                  1.0          0.347395\n",
       "std    3.557009e+07   20.761431                  0.0          0.476734\n",
       "min    3.000106e+10    0.000000                  1.0          0.000000\n",
       "25%    3.005268e+10   13.500000                  1.0          0.000000\n",
       "50%    3.007772e+10   31.000000                  1.0          0.000000\n",
       "75%    3.011111e+10   47.500000                  1.0          1.000000\n",
       "max    3.013896e+10   86.000000                  1.0          1.000000"
      ]
     },
     "execution_count": 108,
     "metadata": {},
     "output_type": "execute_result"
    }
   ],
   "source": [
    "member.describe()"
   ]
  },
  {
   "cell_type": "markdown",
   "id": "5eb4136b",
   "metadata": {},
   "source": [
    "# Utilization Dataset Exploration"
   ]
  },
  {
   "cell_type": "code",
   "execution_count": 109,
   "id": "ae848413",
   "metadata": {},
   "outputs": [
    {
     "data": {
      "text/html": [
       "<div>\n",
       "<style scoped>\n",
       "    .dataframe tbody tr th:only-of-type {\n",
       "        vertical-align: middle;\n",
       "    }\n",
       "\n",
       "    .dataframe tbody tr th {\n",
       "        vertical-align: top;\n",
       "    }\n",
       "\n",
       "    .dataframe thead th {\n",
       "        text-align: right;\n",
       "    }\n",
       "</style>\n",
       "<table border=\"1\" class=\"dataframe\">\n",
       "  <thead>\n",
       "    <tr style=\"text-align: right;\">\n",
       "      <th></th>\n",
       "      <th>MEMBER_ID</th>\n",
       "      <th>CLAIM_ID</th>\n",
       "      <th>ADMIT_DATE</th>\n",
       "      <th>DIAGNOSIS_CODE</th>\n",
       "      <th>DIAGNOSIS_DESCRIPTION</th>\n",
       "      <th>COST</th>\n",
       "    </tr>\n",
       "  </thead>\n",
       "  <tbody>\n",
       "    <tr>\n",
       "      <th>0</th>\n",
       "      <td>30001062600</td>\n",
       "      <td>191480390663</td>\n",
       "      <td>2019-04-18</td>\n",
       "      <td>J9621</td>\n",
       "      <td>ACUTE AND CHRONIC RESPIRATORY FAILURE WITH HYP...</td>\n",
       "      <td>0.00</td>\n",
       "    </tr>\n",
       "    <tr>\n",
       "      <th>1</th>\n",
       "      <td>30001091800</td>\n",
       "      <td>190737712251</td>\n",
       "      <td>2019-03-09</td>\n",
       "      <td>B349</td>\n",
       "      <td>VIRAL INFECTION, UNSPECIFIED</td>\n",
       "      <td>260.46</td>\n",
       "    </tr>\n",
       "    <tr>\n",
       "      <th>2</th>\n",
       "      <td>30002321300</td>\n",
       "      <td>191577705710</td>\n",
       "      <td>2019-05-28</td>\n",
       "      <td>R079</td>\n",
       "      <td>CHEST PAIN, UNSPECIFIED</td>\n",
       "      <td>286.82</td>\n",
       "    </tr>\n",
       "    <tr>\n",
       "      <th>3</th>\n",
       "      <td>30003427200</td>\n",
       "      <td>182557711861</td>\n",
       "      <td>2018-09-06</td>\n",
       "      <td>O200</td>\n",
       "      <td>THREATENED ABORTION</td>\n",
       "      <td>232.82</td>\n",
       "    </tr>\n",
       "    <tr>\n",
       "      <th>4</th>\n",
       "      <td>30004005500</td>\n",
       "      <td>182277705600</td>\n",
       "      <td>2018-07-18</td>\n",
       "      <td>E1165</td>\n",
       "      <td>TYPE 2 DIABETES MELLITUS WITH HYPERGLYCEMIA</td>\n",
       "      <td>196.67</td>\n",
       "    </tr>\n",
       "  </tbody>\n",
       "</table>\n",
       "</div>"
      ],
      "text/plain": [
       "     MEMBER_ID      CLAIM_ID ADMIT_DATE DIAGNOSIS_CODE  \\\n",
       "0  30001062600  191480390663 2019-04-18          J9621   \n",
       "1  30001091800  190737712251 2019-03-09           B349   \n",
       "2  30002321300  191577705710 2019-05-28           R079   \n",
       "3  30003427200  182557711861 2018-09-06           O200   \n",
       "4  30004005500  182277705600 2018-07-18          E1165   \n",
       "\n",
       "                               DIAGNOSIS_DESCRIPTION    COST  \n",
       "0  ACUTE AND CHRONIC RESPIRATORY FAILURE WITH HYP...    0.00  \n",
       "1                       VIRAL INFECTION, UNSPECIFIED  260.46  \n",
       "2                            CHEST PAIN, UNSPECIFIED  286.82  \n",
       "3                                THREATENED ABORTION  232.82  \n",
       "4        TYPE 2 DIABETES MELLITUS WITH HYPERGLYCEMIA  196.67  "
      ]
     },
     "execution_count": 109,
     "metadata": {},
     "output_type": "execute_result"
    }
   ],
   "source": [
    "utilization.head()"
   ]
  },
  {
   "cell_type": "code",
   "execution_count": 110,
   "id": "ac8ca074",
   "metadata": {},
   "outputs": [
    {
     "data": {
      "text/plain": [
       "(388, 6)"
      ]
     },
     "execution_count": 110,
     "metadata": {},
     "output_type": "execute_result"
    }
   ],
   "source": [
    "utilization.shape"
   ]
  },
  {
   "cell_type": "code",
   "execution_count": 111,
   "id": "b36f1799",
   "metadata": {},
   "outputs": [
    {
     "name": "stdout",
     "output_type": "stream",
     "text": [
      "<class 'pandas.core.frame.DataFrame'>\n",
      "RangeIndex: 388 entries, 0 to 387\n",
      "Data columns (total 6 columns):\n",
      " #   Column                 Non-Null Count  Dtype         \n",
      "---  ------                 --------------  -----         \n",
      " 0   MEMBER_ID              388 non-null    int64         \n",
      " 1   CLAIM_ID               388 non-null    int64         \n",
      " 2   ADMIT_DATE             388 non-null    datetime64[ns]\n",
      " 3   DIAGNOSIS_CODE         387 non-null    object        \n",
      " 4   DIAGNOSIS_DESCRIPTION  385 non-null    object        \n",
      " 5   COST                   388 non-null    float64       \n",
      "dtypes: datetime64[ns](1), float64(1), int64(2), object(2)\n",
      "memory usage: 18.3+ KB\n"
     ]
    }
   ],
   "source": [
    "utilization.info()"
   ]
  },
  {
   "cell_type": "code",
   "execution_count": 112,
   "id": "95a1e569",
   "metadata": {},
   "outputs": [
    {
     "data": {
      "text/html": [
       "<div>\n",
       "<style scoped>\n",
       "    .dataframe tbody tr th:only-of-type {\n",
       "        vertical-align: middle;\n",
       "    }\n",
       "\n",
       "    .dataframe tbody tr th {\n",
       "        vertical-align: top;\n",
       "    }\n",
       "\n",
       "    .dataframe thead th {\n",
       "        text-align: right;\n",
       "    }\n",
       "</style>\n",
       "<table border=\"1\" class=\"dataframe\">\n",
       "  <thead>\n",
       "    <tr style=\"text-align: right;\">\n",
       "      <th></th>\n",
       "      <th>MEMBER_ID</th>\n",
       "      <th>CLAIM_ID</th>\n",
       "      <th>COST</th>\n",
       "    </tr>\n",
       "  </thead>\n",
       "  <tbody>\n",
       "    <tr>\n",
       "      <th>count</th>\n",
       "      <td>3.880000e+02</td>\n",
       "      <td>3.880000e+02</td>\n",
       "      <td>388.000000</td>\n",
       "    </tr>\n",
       "    <tr>\n",
       "      <th>mean</th>\n",
       "      <td>3.008010e+10</td>\n",
       "      <td>1.848746e+11</td>\n",
       "      <td>235.799021</td>\n",
       "    </tr>\n",
       "    <tr>\n",
       "      <th>std</th>\n",
       "      <td>3.512986e+07</td>\n",
       "      <td>4.393901e+09</td>\n",
       "      <td>420.262519</td>\n",
       "    </tr>\n",
       "    <tr>\n",
       "      <th>min</th>\n",
       "      <td>3.000106e+10</td>\n",
       "      <td>1.801677e+11</td>\n",
       "      <td>-333.430000</td>\n",
       "    </tr>\n",
       "    <tr>\n",
       "      <th>25%</th>\n",
       "      <td>3.005331e+10</td>\n",
       "      <td>1.812702e+11</td>\n",
       "      <td>81.840000</td>\n",
       "    </tr>\n",
       "    <tr>\n",
       "      <th>50%</th>\n",
       "      <td>3.007771e+10</td>\n",
       "      <td>1.828241e+11</td>\n",
       "      <td>124.310000</td>\n",
       "    </tr>\n",
       "    <tr>\n",
       "      <th>75%</th>\n",
       "      <td>3.011018e+10</td>\n",
       "      <td>1.904377e+11</td>\n",
       "      <td>241.262500</td>\n",
       "    </tr>\n",
       "    <tr>\n",
       "      <th>max</th>\n",
       "      <td>3.013896e+10</td>\n",
       "      <td>1.918277e+11</td>\n",
       "      <td>5307.710000</td>\n",
       "    </tr>\n",
       "  </tbody>\n",
       "</table>\n",
       "</div>"
      ],
      "text/plain": [
       "          MEMBER_ID      CLAIM_ID         COST\n",
       "count  3.880000e+02  3.880000e+02   388.000000\n",
       "mean   3.008010e+10  1.848746e+11   235.799021\n",
       "std    3.512986e+07  4.393901e+09   420.262519\n",
       "min    3.000106e+10  1.801677e+11  -333.430000\n",
       "25%    3.005331e+10  1.812702e+11    81.840000\n",
       "50%    3.007771e+10  1.828241e+11   124.310000\n",
       "75%    3.011018e+10  1.904377e+11   241.262500\n",
       "max    3.013896e+10  1.918277e+11  5307.710000"
      ]
     },
     "execution_count": 112,
     "metadata": {},
     "output_type": "execute_result"
    }
   ],
   "source": [
    "utilization.describe()"
   ]
  },
  {
   "cell_type": "markdown",
   "id": "b1167042",
   "metadata": {},
   "source": [
    "# Data Quality Check"
   ]
  },
  {
   "cell_type": "code",
   "execution_count": 113,
   "id": "4700b3ec",
   "metadata": {},
   "outputs": [
    {
     "data": {
      "text/plain": [
       "400"
      ]
     },
     "execution_count": 113,
     "metadata": {},
     "output_type": "execute_result"
    }
   ],
   "source": [
    "# 400 out of 403 member IDs are unique\n",
    "len(pd.unique(member['MEMBER_ID']))"
   ]
  },
  {
   "cell_type": "code",
   "execution_count": 114,
   "id": "2101d463",
   "metadata": {},
   "outputs": [
    {
     "data": {
      "text/html": [
       "<div>\n",
       "<style scoped>\n",
       "    .dataframe tbody tr th:only-of-type {\n",
       "        vertical-align: middle;\n",
       "    }\n",
       "\n",
       "    .dataframe tbody tr th {\n",
       "        vertical-align: top;\n",
       "    }\n",
       "\n",
       "    .dataframe thead th {\n",
       "        text-align: right;\n",
       "    }\n",
       "</style>\n",
       "<table border=\"1\" class=\"dataframe\">\n",
       "  <thead>\n",
       "    <tr style=\"text-align: right;\">\n",
       "      <th></th>\n",
       "      <th>MEMBER_ID</th>\n",
       "      <th>PCP_POOL</th>\n",
       "      <th>AIDCAT</th>\n",
       "      <th>SEX</th>\n",
       "      <th>AGE</th>\n",
       "      <th>REGION</th>\n",
       "      <th>LANGUAGE</th>\n",
       "      <th>RACE_ETHNICITY</th>\n",
       "      <th>ASTHMA_DENOMINATOR</th>\n",
       "      <th>ASTHMA_NUMERATOR</th>\n",
       "    </tr>\n",
       "  </thead>\n",
       "  <tbody>\n",
       "    <tr>\n",
       "      <th>288</th>\n",
       "      <td>30106818500</td>\n",
       "      <td>RUCM</td>\n",
       "      <td>FAMILY</td>\n",
       "      <td>F</td>\n",
       "      <td>10</td>\n",
       "      <td>NORTHERN</td>\n",
       "      <td>ENGLISH</td>\n",
       "      <td>WHITE</td>\n",
       "      <td>1</td>\n",
       "      <td>1</td>\n",
       "    </tr>\n",
       "    <tr>\n",
       "      <th>402</th>\n",
       "      <td>30106818500</td>\n",
       "      <td>RUCM</td>\n",
       "      <td>FAMILY</td>\n",
       "      <td>F</td>\n",
       "      <td>10</td>\n",
       "      <td>NORTHERN</td>\n",
       "      <td>ENGLISH</td>\n",
       "      <td>WHITE</td>\n",
       "      <td>1</td>\n",
       "      <td>1</td>\n",
       "    </tr>\n",
       "    <tr>\n",
       "      <th>329</th>\n",
       "      <td>30121443500</td>\n",
       "      <td>LKHO</td>\n",
       "      <td>MCE</td>\n",
       "      <td>M</td>\n",
       "      <td>65</td>\n",
       "      <td>SOUTHERN</td>\n",
       "      <td>ENGLISH</td>\n",
       "      <td>WHITE</td>\n",
       "      <td>1</td>\n",
       "      <td>0</td>\n",
       "    </tr>\n",
       "    <tr>\n",
       "      <th>401</th>\n",
       "      <td>30121443500</td>\n",
       "      <td>LKHO</td>\n",
       "      <td>MCE</td>\n",
       "      <td>M</td>\n",
       "      <td>65</td>\n",
       "      <td>SOUTHERN</td>\n",
       "      <td>ENGLISH</td>\n",
       "      <td>WHITE</td>\n",
       "      <td>1</td>\n",
       "      <td>0</td>\n",
       "    </tr>\n",
       "    <tr>\n",
       "      <th>375</th>\n",
       "      <td>30131426800</td>\n",
       "      <td>LKHO</td>\n",
       "      <td>FAMILY</td>\n",
       "      <td>F</td>\n",
       "      <td>0</td>\n",
       "      <td>SOUTHERN</td>\n",
       "      <td>SPANISH</td>\n",
       "      <td>HISPANIC</td>\n",
       "      <td>1</td>\n",
       "      <td>0</td>\n",
       "    </tr>\n",
       "    <tr>\n",
       "      <th>400</th>\n",
       "      <td>30131426800</td>\n",
       "      <td>LKHO</td>\n",
       "      <td>FAMILY</td>\n",
       "      <td>F</td>\n",
       "      <td>0</td>\n",
       "      <td>SOUTHERN</td>\n",
       "      <td>SPANISH</td>\n",
       "      <td>HISPANIC</td>\n",
       "      <td>1</td>\n",
       "      <td>0</td>\n",
       "    </tr>\n",
       "  </tbody>\n",
       "</table>\n",
       "</div>"
      ],
      "text/plain": [
       "       MEMBER_ID PCP_POOL  AIDCAT SEX  AGE    REGION LANGUAGE RACE_ETHNICITY  \\\n",
       "288  30106818500     RUCM  FAMILY   F   10  NORTHERN  ENGLISH          WHITE   \n",
       "402  30106818500     RUCM  FAMILY   F   10  NORTHERN  ENGLISH          WHITE   \n",
       "329  30121443500     LKHO     MCE   M   65  SOUTHERN  ENGLISH          WHITE   \n",
       "401  30121443500     LKHO     MCE   M   65  SOUTHERN  ENGLISH          WHITE   \n",
       "375  30131426800     LKHO  FAMILY   F    0  SOUTHERN  SPANISH       HISPANIC   \n",
       "400  30131426800     LKHO  FAMILY   F    0  SOUTHERN  SPANISH       HISPANIC   \n",
       "\n",
       "     ASTHMA_DENOMINATOR   ASTHMA_NUMERATOR  \n",
       "288                    1                 1  \n",
       "402                    1                 1  \n",
       "329                    1                 0  \n",
       "401                    1                 0  \n",
       "375                    1                 0  \n",
       "400                    1                 0  "
      ]
     },
     "execution_count": 114,
     "metadata": {},
     "output_type": "execute_result"
    }
   ],
   "source": [
    "# The duplicate member IDs\n",
    "member[member['MEMBER_ID'].duplicated(keep=False)].sort_values(by='MEMBER_ID', ascending=True)"
   ]
  },
  {
   "cell_type": "code",
   "execution_count": 115,
   "id": "125c45f9",
   "metadata": {},
   "outputs": [
    {
     "data": {
      "text/plain": [
       "385"
      ]
     },
     "execution_count": 115,
     "metadata": {},
     "output_type": "execute_result"
    }
   ],
   "source": [
    "# 385 out of 388 claim IDs are unique\n",
    "len(pd.unique(utilization['CLAIM_ID']))"
   ]
  },
  {
   "cell_type": "code",
   "execution_count": 116,
   "id": "587e4a12",
   "metadata": {},
   "outputs": [
    {
     "data": {
      "text/html": [
       "<div>\n",
       "<style scoped>\n",
       "    .dataframe tbody tr th:only-of-type {\n",
       "        vertical-align: middle;\n",
       "    }\n",
       "\n",
       "    .dataframe tbody tr th {\n",
       "        vertical-align: top;\n",
       "    }\n",
       "\n",
       "    .dataframe thead th {\n",
       "        text-align: right;\n",
       "    }\n",
       "</style>\n",
       "<table border=\"1\" class=\"dataframe\">\n",
       "  <thead>\n",
       "    <tr style=\"text-align: right;\">\n",
       "      <th></th>\n",
       "      <th>MEMBER_ID</th>\n",
       "      <th>CLAIM_ID</th>\n",
       "      <th>ADMIT_DATE</th>\n",
       "      <th>DIAGNOSIS_CODE</th>\n",
       "      <th>DIAGNOSIS_DESCRIPTION</th>\n",
       "      <th>COST</th>\n",
       "    </tr>\n",
       "  </thead>\n",
       "  <tbody>\n",
       "    <tr>\n",
       "      <th>7</th>\n",
       "      <td>30010333500</td>\n",
       "      <td>182147700854</td>\n",
       "      <td>2018-07-18</td>\n",
       "      <td>H5712</td>\n",
       "      <td>OCULAR PAIN, LEFT EYE</td>\n",
       "      <td>92.28</td>\n",
       "    </tr>\n",
       "    <tr>\n",
       "      <th>385</th>\n",
       "      <td>30010333500</td>\n",
       "      <td>182147700854</td>\n",
       "      <td>1957-07-18</td>\n",
       "      <td>H5712</td>\n",
       "      <td>OCULAR PAIN, LEFT EYE</td>\n",
       "      <td>0.00</td>\n",
       "    </tr>\n",
       "    <tr>\n",
       "      <th>338</th>\n",
       "      <td>30125296700</td>\n",
       "      <td>181717700612</td>\n",
       "      <td>2018-06-12</td>\n",
       "      <td>F10239</td>\n",
       "      <td>ALCOHOL DEPENDENCE WITH WITHDRAWAL, UNSPECIFIED</td>\n",
       "      <td>716.05</td>\n",
       "    </tr>\n",
       "    <tr>\n",
       "      <th>386</th>\n",
       "      <td>30125296700</td>\n",
       "      <td>181717700612</td>\n",
       "      <td>2018-06-12</td>\n",
       "      <td>NaN</td>\n",
       "      <td>NaN</td>\n",
       "      <td>716.05</td>\n",
       "    </tr>\n",
       "    <tr>\n",
       "      <th>370</th>\n",
       "      <td>30133120400</td>\n",
       "      <td>183527709208</td>\n",
       "      <td>2018-12-09</td>\n",
       "      <td>J069</td>\n",
       "      <td>ACUTE UPPER RESPIRATORY INFECTION, UNSPECIFIED</td>\n",
       "      <td>81.84</td>\n",
       "    </tr>\n",
       "    <tr>\n",
       "      <th>387</th>\n",
       "      <td>30133120400</td>\n",
       "      <td>183527709208</td>\n",
       "      <td>2018-12-09</td>\n",
       "      <td>J069</td>\n",
       "      <td>ACUTE UPPER RESPIRATORY INFECTION, UNSPECIFIED</td>\n",
       "      <td>-333.43</td>\n",
       "    </tr>\n",
       "  </tbody>\n",
       "</table>\n",
       "</div>"
      ],
      "text/plain": [
       "       MEMBER_ID      CLAIM_ID ADMIT_DATE DIAGNOSIS_CODE  \\\n",
       "7    30010333500  182147700854 2018-07-18          H5712   \n",
       "385  30010333500  182147700854 1957-07-18          H5712   \n",
       "338  30125296700  181717700612 2018-06-12         F10239   \n",
       "386  30125296700  181717700612 2018-06-12            NaN   \n",
       "370  30133120400  183527709208 2018-12-09           J069   \n",
       "387  30133120400  183527709208 2018-12-09           J069   \n",
       "\n",
       "                               DIAGNOSIS_DESCRIPTION    COST  \n",
       "7                              OCULAR PAIN, LEFT EYE   92.28  \n",
       "385                            OCULAR PAIN, LEFT EYE    0.00  \n",
       "338  ALCOHOL DEPENDENCE WITH WITHDRAWAL, UNSPECIFIED  716.05  \n",
       "386                                              NaN  716.05  \n",
       "370   ACUTE UPPER RESPIRATORY INFECTION, UNSPECIFIED   81.84  \n",
       "387   ACUTE UPPER RESPIRATORY INFECTION, UNSPECIFIED -333.43  "
      ]
     },
     "execution_count": 116,
     "metadata": {},
     "output_type": "execute_result"
    }
   ],
   "source": [
    "# The duplicate claim IDs\n",
    "utilization[utilization['CLAIM_ID'].duplicated(keep=False)].sort_values(by='MEMBER_ID', ascending=True)"
   ]
  },
  {
   "cell_type": "code",
   "execution_count": 117,
   "id": "5b03a2d3",
   "metadata": {},
   "outputs": [
    {
     "name": "stdout",
     "output_type": "stream",
     "text": [
      "Number of negative age values: 0\n"
     ]
    }
   ],
   "source": [
    "negative_age_count = member[member['AGE'] < 0].shape[0]\n",
    "print(\"Number of negative age values:\", negative_age_count)"
   ]
  },
  {
   "cell_type": "code",
   "execution_count": 118,
   "id": "a0727d64",
   "metadata": {},
   "outputs": [
    {
     "name": "stdout",
     "output_type": "stream",
     "text": [
      "Number of outlier age values: 0\n"
     ]
    }
   ],
   "source": [
    "outlier_age_count = member[member['AGE'] > 100].shape[0]\n",
    "print(\"Number of outlier age values:\", outlier_age_count)"
   ]
  },
  {
   "cell_type": "code",
   "execution_count": 119,
   "id": "9299cd36",
   "metadata": {},
   "outputs": [
    {
     "name": "stdout",
     "output_type": "stream",
     "text": [
      "Number of negative cost values: 1\n"
     ]
    }
   ],
   "source": [
    "negative_cost_count = utilization[utilization['COST'] < 0].shape[0]\n",
    "print(\"Number of negative cost values:\", negative_cost_count)"
   ]
  },
  {
   "cell_type": "code",
   "execution_count": 120,
   "id": "4ba4c3cd",
   "metadata": {},
   "outputs": [
    {
     "data": {
      "text/html": [
       "<div>\n",
       "<style scoped>\n",
       "    .dataframe tbody tr th:only-of-type {\n",
       "        vertical-align: middle;\n",
       "    }\n",
       "\n",
       "    .dataframe tbody tr th {\n",
       "        vertical-align: top;\n",
       "    }\n",
       "\n",
       "    .dataframe thead th {\n",
       "        text-align: right;\n",
       "    }\n",
       "</style>\n",
       "<table border=\"1\" class=\"dataframe\">\n",
       "  <thead>\n",
       "    <tr style=\"text-align: right;\">\n",
       "      <th></th>\n",
       "      <th>MEMBER_ID</th>\n",
       "      <th>CLAIM_ID</th>\n",
       "      <th>ADMIT_DATE</th>\n",
       "      <th>DIAGNOSIS_CODE</th>\n",
       "      <th>DIAGNOSIS_DESCRIPTION</th>\n",
       "      <th>COST</th>\n",
       "    </tr>\n",
       "  </thead>\n",
       "  <tbody>\n",
       "    <tr>\n",
       "      <th>387</th>\n",
       "      <td>30133120400</td>\n",
       "      <td>183527709208</td>\n",
       "      <td>2018-12-09</td>\n",
       "      <td>J069</td>\n",
       "      <td>ACUTE UPPER RESPIRATORY INFECTION, UNSPECIFIED</td>\n",
       "      <td>-333.43</td>\n",
       "    </tr>\n",
       "  </tbody>\n",
       "</table>\n",
       "</div>"
      ],
      "text/plain": [
       "       MEMBER_ID      CLAIM_ID ADMIT_DATE DIAGNOSIS_CODE  \\\n",
       "387  30133120400  183527709208 2018-12-09           J069   \n",
       "\n",
       "                              DIAGNOSIS_DESCRIPTION    COST  \n",
       "387  ACUTE UPPER RESPIRATORY INFECTION, UNSPECIFIED -333.43  "
      ]
     },
     "execution_count": 120,
     "metadata": {},
     "output_type": "execute_result"
    }
   ],
   "source": [
    "#There is 1 claim with a negative cost value\n",
    "utilization[utilization['COST'] < 0]"
   ]
  },
  {
   "cell_type": "code",
   "execution_count": 121,
   "id": "fc13316e",
   "metadata": {},
   "outputs": [
    {
     "data": {
      "text/html": [
       "<div>\n",
       "<style scoped>\n",
       "    .dataframe tbody tr th:only-of-type {\n",
       "        vertical-align: middle;\n",
       "    }\n",
       "\n",
       "    .dataframe tbody tr th {\n",
       "        vertical-align: top;\n",
       "    }\n",
       "\n",
       "    .dataframe thead th {\n",
       "        text-align: right;\n",
       "    }\n",
       "</style>\n",
       "<table border=\"1\" class=\"dataframe\">\n",
       "  <thead>\n",
       "    <tr style=\"text-align: right;\">\n",
       "      <th></th>\n",
       "      <th>MEMBER_ID</th>\n",
       "      <th>CLAIM_ID</th>\n",
       "      <th>ADMIT_DATE</th>\n",
       "      <th>DIAGNOSIS_CODE</th>\n",
       "      <th>DIAGNOSIS_DESCRIPTION</th>\n",
       "      <th>COST</th>\n",
       "    </tr>\n",
       "  </thead>\n",
       "  <tbody>\n",
       "    <tr>\n",
       "      <th>270</th>\n",
       "      <td>30104499700</td>\n",
       "      <td>182437716724</td>\n",
       "      <td>2018-08-23</td>\n",
       "      <td>R339</td>\n",
       "      <td>RETENTION OF URINE, UNSPECIFIED</td>\n",
       "      <td>5307.71</td>\n",
       "    </tr>\n",
       "    <tr>\n",
       "      <th>314</th>\n",
       "      <td>30120281700</td>\n",
       "      <td>190310391699</td>\n",
       "      <td>2019-01-17</td>\n",
       "      <td>L299</td>\n",
       "      <td>PRURITUS, UNSPECIFIED</td>\n",
       "      <td>4103.60</td>\n",
       "    </tr>\n",
       "  </tbody>\n",
       "</table>\n",
       "</div>"
      ],
      "text/plain": [
       "       MEMBER_ID      CLAIM_ID ADMIT_DATE DIAGNOSIS_CODE  \\\n",
       "270  30104499700  182437716724 2018-08-23           R339   \n",
       "314  30120281700  190310391699 2019-01-17           L299   \n",
       "\n",
       "               DIAGNOSIS_DESCRIPTION     COST  \n",
       "270  RETENTION OF URINE, UNSPECIFIED  5307.71  \n",
       "314            PRURITUS, UNSPECIFIED  4103.60  "
      ]
     },
     "execution_count": 121,
     "metadata": {},
     "output_type": "execute_result"
    }
   ],
   "source": [
    "utilization[utilization['COST'] > 3000]"
   ]
  },
  {
   "cell_type": "code",
   "execution_count": 122,
   "id": "dbd89679",
   "metadata": {
    "scrolled": false
   },
   "outputs": [
    {
     "data": {
      "text/html": [
       "<div>\n",
       "<style scoped>\n",
       "    .dataframe tbody tr th:only-of-type {\n",
       "        vertical-align: middle;\n",
       "    }\n",
       "\n",
       "    .dataframe tbody tr th {\n",
       "        vertical-align: top;\n",
       "    }\n",
       "\n",
       "    .dataframe thead th {\n",
       "        text-align: right;\n",
       "    }\n",
       "</style>\n",
       "<table border=\"1\" class=\"dataframe\">\n",
       "  <thead>\n",
       "    <tr style=\"text-align: right;\">\n",
       "      <th></th>\n",
       "      <th>MEMBER_ID</th>\n",
       "      <th>CLAIM_ID</th>\n",
       "      <th>ADMIT_DATE</th>\n",
       "      <th>DIAGNOSIS_CODE</th>\n",
       "      <th>DIAGNOSIS_DESCRIPTION</th>\n",
       "      <th>COST</th>\n",
       "    </tr>\n",
       "  </thead>\n",
       "  <tbody>\n",
       "    <tr>\n",
       "      <th>386</th>\n",
       "      <td>30125296700</td>\n",
       "      <td>181717700612</td>\n",
       "      <td>2018-06-12</td>\n",
       "      <td>NaN</td>\n",
       "      <td>NaN</td>\n",
       "      <td>716.05</td>\n",
       "    </tr>\n",
       "  </tbody>\n",
       "</table>\n",
       "</div>"
      ],
      "text/plain": [
       "       MEMBER_ID      CLAIM_ID ADMIT_DATE DIAGNOSIS_CODE  \\\n",
       "386  30125296700  181717700612 2018-06-12            NaN   \n",
       "\n",
       "    DIAGNOSIS_DESCRIPTION    COST  \n",
       "386                   NaN  716.05  "
      ]
     },
     "execution_count": 122,
     "metadata": {},
     "output_type": "execute_result"
    }
   ],
   "source": [
    "#There is 1 claim with a missing diagnosis code\n",
    "utilization[utilization['DIAGNOSIS_CODE'].isnull()]"
   ]
  },
  {
   "cell_type": "code",
   "execution_count": 123,
   "id": "d25ae34e",
   "metadata": {},
   "outputs": [
    {
     "data": {
      "text/html": [
       "<div>\n",
       "<style scoped>\n",
       "    .dataframe tbody tr th:only-of-type {\n",
       "        vertical-align: middle;\n",
       "    }\n",
       "\n",
       "    .dataframe tbody tr th {\n",
       "        vertical-align: top;\n",
       "    }\n",
       "\n",
       "    .dataframe thead th {\n",
       "        text-align: right;\n",
       "    }\n",
       "</style>\n",
       "<table border=\"1\" class=\"dataframe\">\n",
       "  <thead>\n",
       "    <tr style=\"text-align: right;\">\n",
       "      <th></th>\n",
       "      <th>MEMBER_ID</th>\n",
       "      <th>CLAIM_ID</th>\n",
       "      <th>ADMIT_DATE</th>\n",
       "      <th>DIAGNOSIS_CODE</th>\n",
       "      <th>DIAGNOSIS_DESCRIPTION</th>\n",
       "      <th>COST</th>\n",
       "    </tr>\n",
       "  </thead>\n",
       "  <tbody>\n",
       "    <tr>\n",
       "      <th>47</th>\n",
       "      <td>30040023500</td>\n",
       "      <td>191370390718</td>\n",
       "      <td>2019-04-30</td>\n",
       "      <td>K3530</td>\n",
       "      <td>NaN</td>\n",
       "      <td>1121.19</td>\n",
       "    </tr>\n",
       "    <tr>\n",
       "      <th>295</th>\n",
       "      <td>30113678500</td>\n",
       "      <td>190507704536</td>\n",
       "      <td>2019-02-12</td>\n",
       "      <td>M7910</td>\n",
       "      <td>NaN</td>\n",
       "      <td>111.61</td>\n",
       "    </tr>\n",
       "    <tr>\n",
       "      <th>386</th>\n",
       "      <td>30125296700</td>\n",
       "      <td>181717700612</td>\n",
       "      <td>2018-06-12</td>\n",
       "      <td>NaN</td>\n",
       "      <td>NaN</td>\n",
       "      <td>716.05</td>\n",
       "    </tr>\n",
       "  </tbody>\n",
       "</table>\n",
       "</div>"
      ],
      "text/plain": [
       "       MEMBER_ID      CLAIM_ID ADMIT_DATE DIAGNOSIS_CODE  \\\n",
       "47   30040023500  191370390718 2019-04-30          K3530   \n",
       "295  30113678500  190507704536 2019-02-12          M7910   \n",
       "386  30125296700  181717700612 2018-06-12            NaN   \n",
       "\n",
       "    DIAGNOSIS_DESCRIPTION     COST  \n",
       "47                    NaN  1121.19  \n",
       "295                   NaN   111.61  \n",
       "386                   NaN   716.05  "
      ]
     },
     "execution_count": 123,
     "metadata": {},
     "output_type": "execute_result"
    }
   ],
   "source": [
    "# There are 3 claims with missing diagnosis descriptions, 2 of which do have diagnosis codes.\n",
    "utilization[utilization['DIAGNOSIS_DESCRIPTION'].isnull()]"
   ]
  },
  {
   "cell_type": "markdown",
   "id": "3afa5917",
   "metadata": {},
   "source": [
    "# Data Visualization Quality Check"
   ]
  },
  {
   "cell_type": "code",
   "execution_count": 124,
   "id": "b4b1527f",
   "metadata": {},
   "outputs": [
    {
     "data": {
      "image/png": "[encoded data removed]",
      "text/plain": [
       "<Figure size 800x400 with 1 Axes>"
      ]
     },
     "metadata": {},
     "output_type": "display_data"
    }
   ],
   "source": [
    "memberbox = member['AGE'].plot(kind='box', vert=False, figsize=(8,4))"
   ]
  },
  {
   "cell_type": "code",
   "execution_count": 125,
   "id": "80cdb9e4",
   "metadata": {},
   "outputs": [
    {
     "data": {
      "image/png": "[encoded data removed]",
      "text/plain": [
       "<Figure size 1000x400 with 1 Axes>"
      ]
     },
     "metadata": {},
     "output_type": "display_data"
    }
   ],
   "source": [
    "costden = utilization['COST'].plot(kind='hist', figsize=(10,4))"
   ]
  },
  {
   "cell_type": "code",
   "execution_count": 126,
   "id": "f35e9b83",
   "metadata": {},
   "outputs": [
    {
     "data": {
      "image/png": "[encoded data removed]",
      "text/plain": [
       "<Figure size 800x400 with 1 Axes>"
      ]
     },
     "metadata": {},
     "output_type": "display_data"
    }
   ],
   "source": [
    "costbox = utilization['COST'].plot(kind='box', vert=False, figsize=(8,4))"
   ]
  },
  {
   "cell_type": "code",
   "execution_count": 127,
   "id": "4afc1982",
   "metadata": {},
   "outputs": [
    {
     "data": {
      "text/plain": [
       "Text(0.5, 1.0, 'Distribution of PCP Pool')"
      ]
     },
     "execution_count": 127,
     "metadata": {},
     "output_type": "execute_result"
    },
    {
     "data": {
      "image/png": "[encoded data removed]",
      "text/plain": [
       "<Figure size 600x600 with 1 Axes>"
      ]
     },
     "metadata": {},
     "output_type": "display_data"
    }
   ],
   "source": [
    "plt.figure(figsize=(6, 6))\n",
    "pcppool_counts = member['PCP_POOL'].value_counts()\n",
    "plt.pie(pcppool_counts, labels=pcppool_counts.index, autopct='%1.1f%%')\n",
    "plt.title('Distribution of PCP Pool')"
   ]
  },
  {
   "cell_type": "code",
   "execution_count": 128,
   "id": "b1ae1c6e",
   "metadata": {},
   "outputs": [
    {
     "data": {
      "text/plain": [
       "Text(0.5, 1.0, 'Distribution of AIDCAT')"
      ]
     },
     "execution_count": 128,
     "metadata": {},
     "output_type": "execute_result"
    },
    {
     "data": {
      "image/png": "[encoded data removed]",
      "text/plain": [
       "<Figure size 600x600 with 1 Axes>"
      ]
     },
     "metadata": {},
     "output_type": "display_data"
    }
   ],
   "source": [
    "plt.figure(figsize=(6, 6))\n",
    "aidcat_counts = member['AIDCAT'].value_counts()\n",
    "plt.pie(aidcat_counts, labels=aidcat_counts.index, autopct='%1.1f%%')\n",
    "plt.title('Distribution of AIDCAT')"
   ]
  },
  {
   "cell_type": "code",
   "execution_count": 129,
   "id": "eba12789",
   "metadata": {},
   "outputs": [
    {
     "data": {
      "text/plain": [
       "Text(0.5, 1.0, 'Distribution of Sex')"
      ]
     },
     "execution_count": 129,
     "metadata": {},
     "output_type": "execute_result"
    },
    {
     "data": {
      "image/png": "[encoded data removed]",
      "text/plain": [
       "<Figure size 600x600 with 1 Axes>"
      ]
     },
     "metadata": {},
     "output_type": "display_data"
    }
   ],
   "source": [
    "plt.figure(figsize=(6, 6))\n",
    "sex_counts = member['SEX'].value_counts()\n",
    "plt.pie(sex_counts, labels=sex_counts.index, autopct='%1.1f%%')\n",
    "plt.title('Distribution of Sex')"
   ]
  },
  {
   "cell_type": "code",
   "execution_count": 143,
   "id": "fba1c661",
   "metadata": {},
   "outputs": [
    {
     "data": {
      "text/plain": [
       "Text(0.5, 1.0, 'Distribution of Region')"
      ]
     },
     "execution_count": 143,
     "metadata": {},
     "output_type": "execute_result"
    },
    {
     "data": {
      "image/png": "[encoded data removed]",
      "text/plain": [
       "<Figure size 600x600 with 1 Axes>"
      ]
     },
     "metadata": {},
     "output_type": "display_data"
    }
   ],
   "source": [
    "plt.figure(figsize=(6, 6))\n",
    "region_counts = member['REGION'].value_counts()\n",
    "plt.pie(region_counts, labels=region_counts.index, autopct='%1.1f%%')\n",
    "plt.title('Distribution of Region')"
   ]
  },
  {
   "cell_type": "code",
   "execution_count": 131,
   "id": "9fb635c1",
   "metadata": {},
   "outputs": [
    {
     "data": {
      "text/plain": [
       "Text(0.5, 1.0, 'Distribution of Ethnicity')"
      ]
     },
     "execution_count": 131,
     "metadata": {},
     "output_type": "execute_result"
    },
    {
     "data": {
      "image/png": "[encoded data removed]",
      "text/plain": [
       "<Figure size 600x600 with 1 Axes>"
      ]
     },
     "metadata": {},
     "output_type": "display_data"
    }
   ],
   "source": [
    "plt.figure(figsize=(6, 6))\n",
    "ethnicity_counts = member['RACE_ETHNICITY'].value_counts()\n",
    "plt.pie(ethnicity_counts, labels=ethnicity_counts.index, autopct='%1.1f%%')\n",
    "plt.title('Distribution of Ethnicity')"
   ]
  },
  {
   "cell_type": "code",
   "execution_count": 132,
   "id": "fb2aa417",
   "metadata": {},
   "outputs": [
    {
     "data": {
      "text/plain": [
       "Text(0.5, 1.0, 'Distribution of Languages')"
      ]
     },
     "execution_count": 132,
     "metadata": {},
     "output_type": "execute_result"
    },
    {
     "data": {
      "image/png": "[encoded data removed]",
      "text/plain": [
       "<Figure size 600x600 with 1 Axes>"
      ]
     },
     "metadata": {},
     "output_type": "display_data"
    }
   ],
   "source": [
    "plt.figure(figsize=(6, 6))\n",
    "language_counts = member['LANGUAGE'].value_counts()\n",
    "plt.pie(language_counts, labels=language_counts.index, autopct='%1.1f%%')\n",
    "plt.title('Distribution of Languages')"
   ]
  },
  {
   "cell_type": "markdown",
   "id": "f09bad55",
   "metadata": {},
   "source": [
    "# Question 2: Merging datasets"
   ]
  },
  {
   "cell_type": "code",
   "execution_count": 133,
   "id": "a4e14d27",
   "metadata": {},
   "outputs": [],
   "source": [
    "merged_data = pd.merge(utilization, member, on='MEMBER_ID', how='left')"
   ]
  },
  {
   "cell_type": "code",
   "execution_count": 134,
   "id": "3bc233d1",
   "metadata": {},
   "outputs": [
    {
     "data": {
      "text/html": [
       "<div>\n",
       "<style scoped>\n",
       "    .dataframe tbody tr th:only-of-type {\n",
       "        vertical-align: middle;\n",
       "    }\n",
       "\n",
       "    .dataframe tbody tr th {\n",
       "        vertical-align: top;\n",
       "    }\n",
       "\n",
       "    .dataframe thead th {\n",
       "        text-align: right;\n",
       "    }\n",
       "</style>\n",
       "<table border=\"1\" class=\"dataframe\">\n",
       "  <thead>\n",
       "    <tr style=\"text-align: right;\">\n",
       "      <th></th>\n",
       "      <th>MEMBER_ID</th>\n",
       "      <th>CLAIM_ID</th>\n",
       "      <th>ADMIT_DATE</th>\n",
       "      <th>DIAGNOSIS_CODE</th>\n",
       "      <th>DIAGNOSIS_DESCRIPTION</th>\n",
       "      <th>COST</th>\n",
       "      <th>PCP_POOL</th>\n",
       "      <th>AIDCAT</th>\n",
       "      <th>SEX</th>\n",
       "      <th>AGE</th>\n",
       "      <th>REGION</th>\n",
       "      <th>LANGUAGE</th>\n",
       "      <th>RACE_ETHNICITY</th>\n",
       "      <th>ASTHMA_DENOMINATOR</th>\n",
       "      <th>ASTHMA_NUMERATOR</th>\n",
       "    </tr>\n",
       "  </thead>\n",
       "  <tbody>\n",
       "    <tr>\n",
       "      <th>0</th>\n",
       "      <td>30001062600</td>\n",
       "      <td>191480390663</td>\n",
       "      <td>2019-04-18</td>\n",
       "      <td>J9621</td>\n",
       "      <td>ACUTE AND CHRONIC RESPIRATORY FAILURE WITH HYP...</td>\n",
       "      <td>0.00</td>\n",
       "      <td>SM</td>\n",
       "      <td>DISABLED</td>\n",
       "      <td>F</td>\n",
       "      <td>71</td>\n",
       "      <td>SOUTHERN</td>\n",
       "      <td>ENGLISH</td>\n",
       "      <td>WHITE</td>\n",
       "      <td>1</td>\n",
       "      <td>0</td>\n",
       "    </tr>\n",
       "    <tr>\n",
       "      <th>1</th>\n",
       "      <td>30001091800</td>\n",
       "      <td>190737712251</td>\n",
       "      <td>2019-03-09</td>\n",
       "      <td>B349</td>\n",
       "      <td>VIRAL INFECTION, UNSPECIFIED</td>\n",
       "      <td>260.46</td>\n",
       "      <td>NC</td>\n",
       "      <td>DISABLED</td>\n",
       "      <td>F</td>\n",
       "      <td>63</td>\n",
       "      <td>SOUTHERN</td>\n",
       "      <td>SPANISH</td>\n",
       "      <td>HISPANIC</td>\n",
       "      <td>1</td>\n",
       "      <td>0</td>\n",
       "    </tr>\n",
       "    <tr>\n",
       "      <th>2</th>\n",
       "      <td>30002321300</td>\n",
       "      <td>191577705710</td>\n",
       "      <td>2019-05-28</td>\n",
       "      <td>R079</td>\n",
       "      <td>CHEST PAIN, UNSPECIFIED</td>\n",
       "      <td>286.82</td>\n",
       "      <td>SCAH</td>\n",
       "      <td>MCE</td>\n",
       "      <td>M</td>\n",
       "      <td>56</td>\n",
       "      <td>SOUTHERN</td>\n",
       "      <td>ENGLISH</td>\n",
       "      <td>WHITE</td>\n",
       "      <td>1</td>\n",
       "      <td>1</td>\n",
       "    </tr>\n",
       "    <tr>\n",
       "      <th>3</th>\n",
       "      <td>30003427200</td>\n",
       "      <td>182557711861</td>\n",
       "      <td>2018-09-06</td>\n",
       "      <td>O200</td>\n",
       "      <td>THREATENED ABORTION</td>\n",
       "      <td>232.82</td>\n",
       "      <td>SM</td>\n",
       "      <td>FAMILY</td>\n",
       "      <td>F</td>\n",
       "      <td>27</td>\n",
       "      <td>SOUTHERN</td>\n",
       "      <td>ENGLISH</td>\n",
       "      <td>BLACK</td>\n",
       "      <td>1</td>\n",
       "      <td>0</td>\n",
       "    </tr>\n",
       "    <tr>\n",
       "      <th>4</th>\n",
       "      <td>30004005500</td>\n",
       "      <td>182277705600</td>\n",
       "      <td>2018-07-18</td>\n",
       "      <td>E1165</td>\n",
       "      <td>TYPE 2 DIABETES MELLITUS WITH HYPERGLYCEMIA</td>\n",
       "      <td>196.67</td>\n",
       "      <td>YOSM</td>\n",
       "      <td>MCE</td>\n",
       "      <td>M</td>\n",
       "      <td>29</td>\n",
       "      <td>SOUTHERN</td>\n",
       "      <td>ENGLISH</td>\n",
       "      <td>BLACK</td>\n",
       "      <td>1</td>\n",
       "      <td>0</td>\n",
       "    </tr>\n",
       "  </tbody>\n",
       "</table>\n",
       "</div>"
      ],
      "text/plain": [
       "     MEMBER_ID      CLAIM_ID ADMIT_DATE DIAGNOSIS_CODE  \\\n",
       "0  30001062600  191480390663 2019-04-18          J9621   \n",
       "1  30001091800  190737712251 2019-03-09           B349   \n",
       "2  30002321300  191577705710 2019-05-28           R079   \n",
       "3  30003427200  182557711861 2018-09-06           O200   \n",
       "4  30004005500  182277705600 2018-07-18          E1165   \n",
       "\n",
       "                               DIAGNOSIS_DESCRIPTION    COST PCP_POOL  \\\n",
       "0  ACUTE AND CHRONIC RESPIRATORY FAILURE WITH HYP...    0.00       SM   \n",
       "1                       VIRAL INFECTION, UNSPECIFIED  260.46       NC   \n",
       "2                            CHEST PAIN, UNSPECIFIED  286.82     SCAH   \n",
       "3                                THREATENED ABORTION  232.82       SM   \n",
       "4        TYPE 2 DIABETES MELLITUS WITH HYPERGLYCEMIA  196.67     YOSM   \n",
       "\n",
       "     AIDCAT SEX  AGE    REGION LANGUAGE RACE_ETHNICITY  ASTHMA_DENOMINATOR   \\\n",
       "0  DISABLED   F   71  SOUTHERN  ENGLISH          WHITE                    1   \n",
       "1  DISABLED   F   63  SOUTHERN  SPANISH       HISPANIC                    1   \n",
       "2       MCE   M   56  SOUTHERN  ENGLISH          WHITE                    1   \n",
       "3    FAMILY   F   27  SOUTHERN  ENGLISH          BLACK                    1   \n",
       "4       MCE   M   29  SOUTHERN  ENGLISH          BLACK                    1   \n",
       "\n",
       "   ASTHMA_NUMERATOR  \n",
       "0                 0  \n",
       "1                 0  \n",
       "2                 1  \n",
       "3                 0  \n",
       "4                 0  "
      ]
     },
     "execution_count": 134,
     "metadata": {},
     "output_type": "execute_result"
    }
   ],
   "source": [
    "merged_data.head()"
   ]
  },
  {
   "cell_type": "markdown",
   "id": "fa0de588",
   "metadata": {},
   "source": [
    "# Question 3: Grouping members by age group"
   ]
  },
  {
   "cell_type": "code",
   "execution_count": 135,
   "id": "2ba52cea",
   "metadata": {},
   "outputs": [
    {
     "data": {
      "text/html": [
       "<div>\n",
       "<style scoped>\n",
       "    .dataframe tbody tr th:only-of-type {\n",
       "        vertical-align: middle;\n",
       "    }\n",
       "\n",
       "    .dataframe tbody tr th {\n",
       "        vertical-align: top;\n",
       "    }\n",
       "\n",
       "    .dataframe thead th {\n",
       "        text-align: right;\n",
       "    }\n",
       "</style>\n",
       "<table border=\"1\" class=\"dataframe\">\n",
       "  <thead>\n",
       "    <tr style=\"text-align: right;\">\n",
       "      <th></th>\n",
       "      <th>MEMBER_ID</th>\n",
       "      <th>CLAIM_ID</th>\n",
       "      <th>ADMIT_DATE</th>\n",
       "      <th>DIAGNOSIS_CODE</th>\n",
       "      <th>DIAGNOSIS_DESCRIPTION</th>\n",
       "      <th>COST</th>\n",
       "      <th>PCP_POOL</th>\n",
       "      <th>AIDCAT</th>\n",
       "      <th>SEX</th>\n",
       "      <th>AGE</th>\n",
       "      <th>REGION</th>\n",
       "      <th>LANGUAGE</th>\n",
       "      <th>RACE_ETHNICITY</th>\n",
       "      <th>ASTHMA_DENOMINATOR</th>\n",
       "      <th>ASTHMA_NUMERATOR</th>\n",
       "      <th>AGE_GROUP</th>\n",
       "    </tr>\n",
       "  </thead>\n",
       "  <tbody>\n",
       "    <tr>\n",
       "      <th>0</th>\n",
       "      <td>30001062600</td>\n",
       "      <td>191480390663</td>\n",
       "      <td>2019-04-18</td>\n",
       "      <td>J9621</td>\n",
       "      <td>ACUTE AND CHRONIC RESPIRATORY FAILURE WITH HYP...</td>\n",
       "      <td>0.00</td>\n",
       "      <td>SM</td>\n",
       "      <td>DISABLED</td>\n",
       "      <td>F</td>\n",
       "      <td>71</td>\n",
       "      <td>SOUTHERN</td>\n",
       "      <td>ENGLISH</td>\n",
       "      <td>WHITE</td>\n",
       "      <td>1</td>\n",
       "      <td>0</td>\n",
       "      <td>65 and over</td>\n",
       "    </tr>\n",
       "    <tr>\n",
       "      <th>1</th>\n",
       "      <td>30001091800</td>\n",
       "      <td>190737712251</td>\n",
       "      <td>2019-03-09</td>\n",
       "      <td>B349</td>\n",
       "      <td>VIRAL INFECTION, UNSPECIFIED</td>\n",
       "      <td>260.46</td>\n",
       "      <td>NC</td>\n",
       "      <td>DISABLED</td>\n",
       "      <td>F</td>\n",
       "      <td>63</td>\n",
       "      <td>SOUTHERN</td>\n",
       "      <td>SPANISH</td>\n",
       "      <td>HISPANIC</td>\n",
       "      <td>1</td>\n",
       "      <td>0</td>\n",
       "      <td>21-64</td>\n",
       "    </tr>\n",
       "    <tr>\n",
       "      <th>2</th>\n",
       "      <td>30002321300</td>\n",
       "      <td>191577705710</td>\n",
       "      <td>2019-05-28</td>\n",
       "      <td>R079</td>\n",
       "      <td>CHEST PAIN, UNSPECIFIED</td>\n",
       "      <td>286.82</td>\n",
       "      <td>SCAH</td>\n",
       "      <td>MCE</td>\n",
       "      <td>M</td>\n",
       "      <td>56</td>\n",
       "      <td>SOUTHERN</td>\n",
       "      <td>ENGLISH</td>\n",
       "      <td>WHITE</td>\n",
       "      <td>1</td>\n",
       "      <td>1</td>\n",
       "      <td>21-64</td>\n",
       "    </tr>\n",
       "    <tr>\n",
       "      <th>3</th>\n",
       "      <td>30003427200</td>\n",
       "      <td>182557711861</td>\n",
       "      <td>2018-09-06</td>\n",
       "      <td>O200</td>\n",
       "      <td>THREATENED ABORTION</td>\n",
       "      <td>232.82</td>\n",
       "      <td>SM</td>\n",
       "      <td>FAMILY</td>\n",
       "      <td>F</td>\n",
       "      <td>27</td>\n",
       "      <td>SOUTHERN</td>\n",
       "      <td>ENGLISH</td>\n",
       "      <td>BLACK</td>\n",
       "      <td>1</td>\n",
       "      <td>0</td>\n",
       "      <td>21-64</td>\n",
       "    </tr>\n",
       "    <tr>\n",
       "      <th>4</th>\n",
       "      <td>30004005500</td>\n",
       "      <td>182277705600</td>\n",
       "      <td>2018-07-18</td>\n",
       "      <td>E1165</td>\n",
       "      <td>TYPE 2 DIABETES MELLITUS WITH HYPERGLYCEMIA</td>\n",
       "      <td>196.67</td>\n",
       "      <td>YOSM</td>\n",
       "      <td>MCE</td>\n",
       "      <td>M</td>\n",
       "      <td>29</td>\n",
       "      <td>SOUTHERN</td>\n",
       "      <td>ENGLISH</td>\n",
       "      <td>BLACK</td>\n",
       "      <td>1</td>\n",
       "      <td>0</td>\n",
       "      <td>21-64</td>\n",
       "    </tr>\n",
       "  </tbody>\n",
       "</table>\n",
       "</div>"
      ],
      "text/plain": [
       "     MEMBER_ID      CLAIM_ID ADMIT_DATE DIAGNOSIS_CODE  \\\n",
       "0  30001062600  191480390663 2019-04-18          J9621   \n",
       "1  30001091800  190737712251 2019-03-09           B349   \n",
       "2  30002321300  191577705710 2019-05-28           R079   \n",
       "3  30003427200  182557711861 2018-09-06           O200   \n",
       "4  30004005500  182277705600 2018-07-18          E1165   \n",
       "\n",
       "                               DIAGNOSIS_DESCRIPTION    COST PCP_POOL  \\\n",
       "0  ACUTE AND CHRONIC RESPIRATORY FAILURE WITH HYP...    0.00       SM   \n",
       "1                       VIRAL INFECTION, UNSPECIFIED  260.46       NC   \n",
       "2                            CHEST PAIN, UNSPECIFIED  286.82     SCAH   \n",
       "3                                THREATENED ABORTION  232.82       SM   \n",
       "4        TYPE 2 DIABETES MELLITUS WITH HYPERGLYCEMIA  196.67     YOSM   \n",
       "\n",
       "     AIDCAT SEX  AGE    REGION LANGUAGE RACE_ETHNICITY  ASTHMA_DENOMINATOR   \\\n",
       "0  DISABLED   F   71  SOUTHERN  ENGLISH          WHITE                    1   \n",
       "1  DISABLED   F   63  SOUTHERN  SPANISH       HISPANIC                    1   \n",
       "2       MCE   M   56  SOUTHERN  ENGLISH          WHITE                    1   \n",
       "3    FAMILY   F   27  SOUTHERN  ENGLISH          BLACK                    1   \n",
       "4       MCE   M   29  SOUTHERN  ENGLISH          BLACK                    1   \n",
       "\n",
       "   ASTHMA_NUMERATOR    AGE_GROUP  \n",
       "0                 0  65 and over  \n",
       "1                 0        21-64  \n",
       "2                 1        21-64  \n",
       "3                 0        21-64  \n",
       "4                 0        21-64  "
      ]
     },
     "execution_count": 135,
     "metadata": {},
     "output_type": "execute_result"
    }
   ],
   "source": [
    "# Create bins for the age groups, the last bin edge represents '65 and over'\n",
    "age_bins = [0, 20, 64, float('inf')]\n",
    "\n",
    "# Define the labels for the age groups\n",
    "age_labels = ['0-20', '21-64', '65 and over']\n",
    "\n",
    "#Create new column with the defined bin and labels\n",
    "merged_data['AGE_GROUP'] = pd.cut(merged_data['AGE'], bins=age_bins, labels=age_labels, right=False)\n",
    "\n",
    "merged_data.head()"
   ]
  },
  {
   "cell_type": "markdown",
   "id": "fdb8af17",
   "metadata": {},
   "source": [
    "# Question 4: Filtering the Original Merged Dataset"
   ]
  },
  {
   "cell_type": "code",
   "execution_count": 136,
   "id": "be18253f",
   "metadata": {},
   "outputs": [
    {
     "data": {
      "text/html": [
       "<div>\n",
       "<style scoped>\n",
       "    .dataframe tbody tr th:only-of-type {\n",
       "        vertical-align: middle;\n",
       "    }\n",
       "\n",
       "    .dataframe tbody tr th {\n",
       "        vertical-align: top;\n",
       "    }\n",
       "\n",
       "    .dataframe thead th {\n",
       "        text-align: right;\n",
       "    }\n",
       "</style>\n",
       "<table border=\"1\" class=\"dataframe\">\n",
       "  <thead>\n",
       "    <tr style=\"text-align: right;\">\n",
       "      <th></th>\n",
       "      <th>MEMBER_ID</th>\n",
       "      <th>CLAIM_ID</th>\n",
       "      <th>ADMIT_DATE</th>\n",
       "      <th>DIAGNOSIS_CODE</th>\n",
       "      <th>DIAGNOSIS_DESCRIPTION</th>\n",
       "      <th>COST</th>\n",
       "      <th>PCP_POOL</th>\n",
       "      <th>AIDCAT</th>\n",
       "      <th>SEX</th>\n",
       "      <th>AGE</th>\n",
       "      <th>REGION</th>\n",
       "      <th>LANGUAGE</th>\n",
       "      <th>RACE_ETHNICITY</th>\n",
       "      <th>ASTHMA_DENOMINATOR</th>\n",
       "      <th>ASTHMA_NUMERATOR</th>\n",
       "      <th>AGE_GROUP</th>\n",
       "    </tr>\n",
       "  </thead>\n",
       "  <tbody>\n",
       "    <tr>\n",
       "      <th>5</th>\n",
       "      <td>30007836500</td>\n",
       "      <td>181207708926</td>\n",
       "      <td>2018-04-22</td>\n",
       "      <td>J069</td>\n",
       "      <td>ACUTE UPPER RESPIRATORY INFECTION, UNSPECIFIED</td>\n",
       "      <td>106.51</td>\n",
       "      <td>CC</td>\n",
       "      <td>MCE</td>\n",
       "      <td>M</td>\n",
       "      <td>22</td>\n",
       "      <td>SOUTHERN</td>\n",
       "      <td>ENGLISH</td>\n",
       "      <td>WHITE</td>\n",
       "      <td>1</td>\n",
       "      <td>0</td>\n",
       "      <td>21-64</td>\n",
       "    </tr>\n",
       "    <tr>\n",
       "      <th>6</th>\n",
       "      <td>30007960200</td>\n",
       "      <td>182227704559</td>\n",
       "      <td>2018-08-03</td>\n",
       "      <td>L03116</td>\n",
       "      <td>CELLULITIS OF LEFT LOWER LIMB</td>\n",
       "      <td>116.55</td>\n",
       "      <td>LKHO</td>\n",
       "      <td>MCE</td>\n",
       "      <td>F</td>\n",
       "      <td>39</td>\n",
       "      <td>SOUTHERN</td>\n",
       "      <td>ENGLISH</td>\n",
       "      <td>WHITE</td>\n",
       "      <td>1</td>\n",
       "      <td>1</td>\n",
       "      <td>21-64</td>\n",
       "    </tr>\n",
       "    <tr>\n",
       "      <th>7</th>\n",
       "      <td>30010333500</td>\n",
       "      <td>182147700854</td>\n",
       "      <td>2018-07-18</td>\n",
       "      <td>H5712</td>\n",
       "      <td>OCULAR PAIN, LEFT EYE</td>\n",
       "      <td>92.28</td>\n",
       "      <td>SCAH</td>\n",
       "      <td>DISABLED</td>\n",
       "      <td>F</td>\n",
       "      <td>63</td>\n",
       "      <td>SOUTHERN</td>\n",
       "      <td>ENGLISH</td>\n",
       "      <td>FILIPINO</td>\n",
       "      <td>1</td>\n",
       "      <td>1</td>\n",
       "      <td>21-64</td>\n",
       "    </tr>\n",
       "    <tr>\n",
       "      <th>9</th>\n",
       "      <td>30012728500</td>\n",
       "      <td>180817714256</td>\n",
       "      <td>2018-03-15</td>\n",
       "      <td>N200</td>\n",
       "      <td>CALCULUS OF KIDNEY</td>\n",
       "      <td>722.59</td>\n",
       "      <td>QOV</td>\n",
       "      <td>FAMILY</td>\n",
       "      <td>F</td>\n",
       "      <td>39</td>\n",
       "      <td>SOUTHERN</td>\n",
       "      <td>ENGLISH</td>\n",
       "      <td>WHITE</td>\n",
       "      <td>1</td>\n",
       "      <td>1</td>\n",
       "      <td>21-64</td>\n",
       "    </tr>\n",
       "    <tr>\n",
       "      <th>10</th>\n",
       "      <td>30013068500</td>\n",
       "      <td>180737708163</td>\n",
       "      <td>2018-03-10</td>\n",
       "      <td>H9201</td>\n",
       "      <td>OTALGIA, RIGHT EAR</td>\n",
       "      <td>81.84</td>\n",
       "      <td>IHSF</td>\n",
       "      <td>MCE</td>\n",
       "      <td>F</td>\n",
       "      <td>19</td>\n",
       "      <td>NORTHERN</td>\n",
       "      <td>ENGLISH</td>\n",
       "      <td>WHITE</td>\n",
       "      <td>1</td>\n",
       "      <td>0</td>\n",
       "      <td>0-20</td>\n",
       "    </tr>\n",
       "  </tbody>\n",
       "</table>\n",
       "</div>"
      ],
      "text/plain": [
       "      MEMBER_ID      CLAIM_ID ADMIT_DATE DIAGNOSIS_CODE  \\\n",
       "5   30007836500  181207708926 2018-04-22           J069   \n",
       "6   30007960200  182227704559 2018-08-03         L03116   \n",
       "7   30010333500  182147700854 2018-07-18          H5712   \n",
       "9   30012728500  180817714256 2018-03-15           N200   \n",
       "10  30013068500  180737708163 2018-03-10          H9201   \n",
       "\n",
       "                             DIAGNOSIS_DESCRIPTION    COST PCP_POOL    AIDCAT  \\\n",
       "5   ACUTE UPPER RESPIRATORY INFECTION, UNSPECIFIED  106.51       CC       MCE   \n",
       "6                    CELLULITIS OF LEFT LOWER LIMB  116.55     LKHO       MCE   \n",
       "7                            OCULAR PAIN, LEFT EYE   92.28     SCAH  DISABLED   \n",
       "9                               CALCULUS OF KIDNEY  722.59      QOV    FAMILY   \n",
       "10                              OTALGIA, RIGHT EAR   81.84     IHSF       MCE   \n",
       "\n",
       "   SEX  AGE    REGION LANGUAGE RACE_ETHNICITY  ASTHMA_DENOMINATOR   \\\n",
       "5    M   22  SOUTHERN  ENGLISH          WHITE                    1   \n",
       "6    F   39  SOUTHERN  ENGLISH          WHITE                    1   \n",
       "7    F   63  SOUTHERN  ENGLISH       FILIPINO                    1   \n",
       "9    F   39  SOUTHERN  ENGLISH          WHITE                    1   \n",
       "10   F   19  NORTHERN  ENGLISH          WHITE                    1   \n",
       "\n",
       "    ASTHMA_NUMERATOR AGE_GROUP  \n",
       "5                  0     21-64  \n",
       "6                  1     21-64  \n",
       "7                  1     21-64  \n",
       "9                  1     21-64  \n",
       "10                 0      0-20  "
      ]
     },
     "execution_count": 136,
     "metadata": {},
     "output_type": "execute_result"
    }
   ],
   "source": [
    "# Create a new data set for year 2018\n",
    "df_2018 = merged_data[merged_data['ADMIT_DATE'].dt.year == 2018]\n",
    "\n",
    "# Create a new data set that excludes records with PCP_POOL starting with \"KAI\" or ending with \"SM\"\n",
    "df_filtered = df_2018[~df_2018['PCP_POOL'].str.startswith('KAI')]\n",
    "df_filtered = df_filtered[~df_filtered['PCP_POOL'].str.endswith('SM')]\n",
    "\n",
    "df_filtered.head()"
   ]
  },
  {
   "cell_type": "code",
   "execution_count": 137,
   "id": "4a585d18",
   "metadata": {},
   "outputs": [
    {
     "data": {
      "text/plain": [
       "(228, 16)"
      ]
     },
     "execution_count": 137,
     "metadata": {},
     "output_type": "execute_result"
    }
   ],
   "source": [
    "df_filtered.shape"
   ]
  },
  {
   "cell_type": "markdown",
   "id": "799a5d9d",
   "metadata": {},
   "source": [
    "# Question 5: Questions from Age-Group Dataset"
   ]
  },
  {
   "cell_type": "code",
   "execution_count": 138,
   "id": "ef338f4e",
   "metadata": {},
   "outputs": [
    {
     "name": "stdout",
     "output_type": "stream",
     "text": [
      "Number of distinct members from filtered age group dataset: 385\n"
     ]
    }
   ],
   "source": [
    "# How many distinct members are included in the data set?\n",
    "distinct_members_count = merged_data['MEMBER_ID'].nunique()\n",
    "print(\"Number of distinct members from filtered age group dataset:\", distinct_members_count)"
   ]
  },
  {
   "cell_type": "code",
   "execution_count": 139,
   "id": "ff36931f",
   "metadata": {},
   "outputs": [
    {
     "name": "stdout",
     "output_type": "stream",
     "text": [
      "Mean cost by member:\n",
      "MEMBER_ID\n",
      "30001062600       0.00\n",
      "30001091800     260.46\n",
      "30002321300     286.82\n",
      "30003427200     232.82\n",
      "30004005500     196.67\n",
      "                ...   \n",
      "30136691800    1619.30\n",
      "30137947300      81.84\n",
      "30138339000     136.40\n",
      "30138676200      88.94\n",
      "30138961700     377.99\n",
      "Name: COST, Length: 385, dtype: float64\n"
     ]
    }
   ],
   "source": [
    "# What is the mean cost by member?\n",
    "mean_cost_member = merged_data.groupby('MEMBER_ID')['COST'].mean()\n",
    "print(\"Mean cost by member:\")\n",
    "print(mean_cost_member)"
   ]
  },
  {
   "cell_type": "code",
   "execution_count": 140,
   "id": "4e9f0baa",
   "metadata": {},
   "outputs": [
    {
     "data": {
      "text/plain": [
       "235.0293846153846"
      ]
     },
     "execution_count": 140,
     "metadata": {},
     "output_type": "execute_result"
    }
   ],
   "source": [
    "# mean cost for all members\n",
    "merged_data['COST'].mean()"
   ]
  },
  {
   "cell_type": "code",
   "execution_count": 141,
   "id": "7dd6d34a",
   "metadata": {},
   "outputs": [
    {
     "name": "stdout",
     "output_type": "stream",
     "text": [
      "Age group with the highest mean cost: 21-64\n",
      "Average cost for that group: 263.6384297520661\n"
     ]
    }
   ],
   "source": [
    "# What is the age group with the highest mean cost? What is the average for that group?\n",
    "mean_cost_age_group = merged_data.groupby('AGE_GROUP')['COST'].mean()\n",
    "\n",
    "highest_mean_cost_age_group = mean_cost_age_group.idxmax()\n",
    "\n",
    "highest_mean_cost = mean_cost_age_group.max()\n",
    "\n",
    "print(\"Age group with the highest mean cost:\", highest_mean_cost_age_group)\n",
    "print(\"Average cost for that group:\", highest_mean_cost)"
   ]
  },
  {
   "cell_type": "code",
   "execution_count": 142,
   "id": "30c3cc10",
   "metadata": {
    "scrolled": false
   },
   "outputs": [
    {
     "name": "stdout",
     "output_type": "stream",
     "text": [
      "Top 5 diagnoses by claim volume:\n",
      "VIRAL INFECTION, UNSPECIFIED                      12\n",
      "ACUTE UPPER RESPIRATORY INFECTION, UNSPECIFIED    11\n",
      "URINARY TRACT INFECTION, SITE NOT SPECIFIED       10\n",
      "LOW BACK PAIN                                      7\n",
      "CHEST PAIN, UNSPECIFIED                            7\n",
      "Name: DIAGNOSIS_DESCRIPTION, dtype: int64\n"
     ]
    }
   ],
   "source": [
    "# What are the top 5 diagnoses by claim volume? \n",
    "top_5_diagnoses = merged_data['DIAGNOSIS_DESCRIPTION'].value_counts().head(5)\n",
    "print(\"Top 5 diagnoses by claim volume:\")\n",
    "print(top_5_diagnoses)"
   ]
  }
 ],
 "metadata": {
  "kernelspec": {
   "display_name": "Python 3 (ipykernel)",
   "language": "python",
   "name": "python3"
  },
  "language_info": {
   "codemirror_mode": {
    "name": "ipython",
    "version": 3
   },
   "file_extension": ".py",
   "mimetype": "text/x-python",
   "name": "python",
   "nbconvert_exporter": "python",
   "pygments_lexer": "ipython3",
   "version": "3.10.9"
  }
 },
 "nbformat": 4,
 "nbformat_minor": 5
}
